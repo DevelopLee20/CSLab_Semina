{
 "cells": [
  {
   "cell_type": "code",
   "execution_count": 2,
   "metadata": {},
   "outputs": [],
   "source": [
    "import pandas as pd # 판다스 라이브러리, 데이터 조작\n",
    "import numpy as np # 넘파이 라이브러리, 데이터 연산\n",
    "import matplotlib.pylab as plt # 그래프 출력 라이브러리"
   ]
  },
  {
   "cell_type": "code",
   "execution_count": 3,
   "metadata": {},
   "outputs": [],
   "source": [
    "def sum_squares_error(y, t): # y 확률로 된 예측 데이터 , t 원-핫 인코딩으로 되어진 정답 레이블\n",
    "    return 0.5 * np.sum(( y - t ) ** 2 )\n",
    "\n",
    "# 예측의 정확도를 반환함 (확률로 반환)"
   ]
  },
  {
   "cell_type": "code",
   "execution_count": 4,
   "metadata": {},
   "outputs": [],
   "source": [
    "def cross_entropy_error(y, t): # y 확률로 된 예측 데이터 , t 원-핫 인코딩으로 되어진 정답 레이블\n",
    "    delta = 1e-7\n",
    "    return -np.sum( t * np.log( y + delta ))\n",
    "\n",
    "# 정답에 가깝게 예측할수록 오차가 적다 (적은 오차를 수치로 반환)\n",
    "# y = log_x 그래프는 [ ~ 0] 범위를 가지고 있어서 -를 붙여서 반전한다. ( 오차 값이기 때문에 +로 표현 )"
   ]
  },
  {
   "cell_type": "code",
   "execution_count": 5,
   "metadata": {},
   "outputs": [],
   "source": [
    "def cross_entropy_error(y, t):\r\n",
    "    if y.ndim == 1: # ndim : 차원\r\n",
    "        t = t.reshape(1, t.size) # reshape(1, t.size) : 다차원 배열을 한 차원으로 변경\r\n",
    "        y = y.reshape(1, y.size) # y.size : y 배열의 개수 반환\r\n",
    "        \r\n",
    "    # 훈련 데이터가 원-핫 벡터라면 정답 레이블의 인덱스로 반환\r\n",
    "    if t.size == y.size:\r\n",
    "        t = t.argmax(axis=1) # 세로 : 행(0), 가로 : 열(1) 기준으로 최대값을 저장\r\n",
    "             \r\n",
    "    batch_size = y.shape[0] # x 개수 반환\r\n",
    "    return -np.sum(np.log(y[np.arange(batch_size), t] + 1e-7)) / batch_size # 로그 반환"
   ]
  },
  {
   "cell_type": "code",
   "execution_count": 6,
   "metadata": {},
   "outputs": [],
   "source": [
    "def numerical_diff(f, x):\n",
    "    h = 1e-4\n",
    "    return ( f(x+h) - f(x-h) ) / ( 2 * h )"
   ]
  },
  {
   "cell_type": "code",
   "execution_count": 7,
   "metadata": {},
   "outputs": [],
   "source": [
    "def numerical_gradient(f, x): # 편미분을 벡터로 정리 : 기울기\r\n",
    "    h = 1e-4\r\n",
    "    grad = np.zeros_like(x)\r\n",
    "\r\n",
    "    for idx in range(x.size):\r\n",
    "        tmp_val = x[idx]\r\n",
    "\r\n",
    "        x[idx] = tmp_val + h # (구하고싶은 값+1) 미분\r\n",
    "        fxh1 = f(x)\r\n",
    "\r\n",
    "        x[idx] = tmp_val - h # # (구하고싶은 값-1) 미분\r\n",
    "        fxh2 = f(x)\r\n",
    "\r\n",
    "        # 두 미분 값의 평균으로 구하고 싶은 값의 미분 값을 구한다.\r\n",
    "        grad[idx] = ( fxh1 - fxh2 ) / ( 2 * h )\r\n",
    "        x[idx] = tmp_val\r\n",
    "    \r\n",
    "        return grad"
   ]
  },
  {
   "cell_type": "code",
   "execution_count": 8,
   "metadata": {},
   "outputs": [],
   "source": [
    "# 경사 하강법\n",
    "def gradient_descent(f, init_x, lr=0.01, step_num=100): # 최적화 하려는 함수, 초깃값, 학습률, 반복횟수\n",
    "    x = init_x\n",
    "\n",
    "    for i in range(step_num):\n",
    "        grad = numerical_gradient(f, x)\n",
    "        x -= lr * grad\n",
    "    \n",
    "    return x"
   ]
  },
  {
   "cell_type": "code",
   "execution_count": 9,
   "metadata": {},
   "outputs": [],
   "source": [
    "def softmax(x): # 모든 신호에 영향을 준다.\n",
    "    if x.ndim == 2: # 차원이 2차원일때\n",
    "        x = x.T # array.T : 배열의 행과 열을 바꾸는 메소드\n",
    "        x = x - np.max(x, axis=0) # 세로(0) 행 방향의 최대값을 저장\n",
    "        y = np.exp(x) / np.sum(np.exp(x), axis=0)\n",
    "        return y.T \n",
    "\n",
    "    x = x - np.max(x) # 오버플로 대책\n",
    "    return np.exp(x) / np.sum(np.exp(x))"
   ]
  },
  {
   "cell_type": "code",
   "execution_count": 10,
   "metadata": {},
   "outputs": [],
   "source": [
    "class simpleNet: # 기울기 구하는 클래스\n",
    "    \n",
    "    def __init__(self): # 표준 정규 분포\n",
    "        self.W = np.random.randn(2,3)\n",
    "    \n",
    "    def predict(self, x):\n",
    "        return np.dot(x, self.W) # np.dot : 행렬의 곱의 합\n",
    "    \n",
    "    def loss(self, x, t):\n",
    "        z = self.predict(x)\n",
    "        y = softmax(z)\n",
    "        loss = cross_entropy_error(y, t)\n",
    "\n",
    "        return loss"
   ]
  },
  {
   "cell_type": "code",
   "execution_count": 11,
   "metadata": {},
   "outputs": [],
   "source": [
    "def f(W):\n",
    "    return net.loss(x, t)"
   ]
  },
  {
   "cell_type": "code",
   "execution_count": 12,
   "metadata": {},
   "outputs": [],
   "source": [
    "def sigmoid(x):\n",
    "    return 1 / (1 + np.exp(-x)) # 자연스러운 곡선을 그리는 함수"
   ]
  },
  {
   "cell_type": "code",
   "execution_count": 13,
   "metadata": {},
   "outputs": [],
   "source": [
    "# 2층 신경망 클래스 구현\r\n",
    "class TwoLayerNet:\r\n",
    "\r\n",
    "    def __init__(self, input_size, hidden_size, output_size, weight_init_std=0.01): # weight_init_std : 학습률\r\n",
    "        self.params = {} # 배치처리를 위해 2층의 신경망 구현\r\n",
    "        self.params['W1'] = weight_init_std * np.random.randn(input_size, hidden_size) # 학습률에 따른 변수 조정\r\n",
    "        self.params['b1'] = np.zeros(hidden_size) # shape는 같지만 모든 요소ㄱ 0으로 되어진 배열 생성\r\n",
    "        self.params['W2'] = weight_init_std * np.random.randn(hidden_size, output_size) # 학습률에 따른 변수 조정\r\n",
    "        self.params['b2'] = np.zeros(output_size) # shape는 같지만 모든 요소ㄱ 0으로 되어진 배열 생성\r\n",
    "\r\n",
    "    def predict(self, x):\r\n",
    "        W1, W2 = self.params['W1'], self.params['W2']\r\n",
    "        b1, b2 = self.params['b1'], self.params['b2']\r\n",
    "\r\n",
    "        a1 = np.dot(x, W1) + b1\r\n",
    "        z1 = sigmoid(a1) # 1층 활성화함수 : Sigmoid(시그모이드)\r\n",
    "        a2 = np.dot(z1, W2) + b2\r\n",
    "        y = softmax(a2) # 2층 활성화함수 : SoftMax(소프트맥스)\r\n",
    "\r\n",
    "        return y\r\n",
    "    \r\n",
    "    def loss(self, x, t): # 오차\r\n",
    "        y = self.predict(x)\r\n",
    "    \r\n",
    "        return cross_entropy_error(y, t)\r\n",
    "    \r\n",
    "    def accuracy(self, x, t): # 정확도\r\n",
    "        y = self.predict(x)\r\n",
    "        y = np.argmax(y, axis=1) # 최대값 반환\r\n",
    "        t = np.argmax(t, axis=1) # 최대값 반환\r\n",
    "\r\n",
    "        accuracy = np.sum(y == t) / float(x.shape[0])\r\n",
    "        return accuracy\r\n",
    "    \r\n",
    "    def numerical_gradient(self, x, t): # 경사 하강법\r\n",
    "        loss_W = lambda W: self.loss(x, t)\r\n",
    "\r\n",
    "        grads = {}\r\n",
    "        grads['W1'] = numerical_gradient(loss_W, self.params['W1'])\r\n",
    "        grads['b1'] = numerical_gradient(loss_W, self.params['b1'])\r\n",
    "        grads['W2'] = numerical_gradient(loss_W, self.params['W2'])\r\n",
    "        grads['b2'] = numerical_gradient(loss_W, self.params['b2'])\r\n",
    "\r\n",
    "        return grads"
   ]
  },
  {
   "cell_type": "code",
   "execution_count": 15,
   "metadata": {},
   "outputs": [],
   "source": [
    "from dataset.mnist import load_mnist\r\n",
    "\r\n",
    "(x_train, t_train), (x_test, t_test) = load_mnist(normalize=True, one_hot_label=True)\r\n",
    "\r\n",
    "train_loss_list = []\r\n",
    "\r\n",
    "iters_num = 10000 # 반복횟수\r\n",
    "train_size = x_train.shape[0] # 학습 사이즈\r\n",
    "batch_size = 100 # 미니 배치 크기\r\n",
    "learning_rate = 0.1 # 학습률\r\n",
    "\r\n",
    "network = TwoLayerNet(input_size=784, hidden_size=50, output_size=10)\r\n",
    "\r\n",
    "for i in range(iters_num):\r\n",
    "    batch_mask = np.random.choice(train_size, batch_size)\r\n",
    "    x_batch = x_train[batch_mask]\r\n",
    "    t_batch = t_train[batch_mask]\r\n",
    "\r\n",
    "    grad = network.numerical_gradient(x_batch, t_batch)\r\n",
    "    # 개선판은 다음 단원에서 공부\r\n",
    "\r\n",
    "    for key in ('W1', 'b1', 'W2', 'b2'):\r\n",
    "        network.params[key] -= learning_rate * grad[key]\r\n",
    "    \r\n",
    "    loss = network.loss(x_batch, t_batch)\r\n",
    "    train_loss_list.append(loss)"
   ]
  },
  {
   "cell_type": "code",
   "execution_count": 17,
   "metadata": {},
   "outputs": [
    {
     "name": "stdout",
     "output_type": "stream",
     "text": [
      "train acc, test acc | 0.10441666666666667, 0.1028\n",
      "train acc, test acc | 0.10441666666666667, 0.1028\n",
      "train acc, test acc | 0.10441666666666667, 0.1028\n",
      "train acc, test acc | 0.10441666666666667, 0.1028\n",
      "train acc, test acc | 0.10441666666666667, 0.1028\n",
      "train acc, test acc | 0.10441666666666667, 0.1028\n",
      "train acc, test acc | 0.10441666666666667, 0.1028\n",
      "train acc, test acc | 0.10441666666666667, 0.1028\n",
      "train acc, test acc | 0.10441666666666667, 0.1028\n",
      "train acc, test acc | 0.10441666666666667, 0.1028\n",
      "train acc, test acc | 0.10441666666666667, 0.1028\n",
      "train acc, test acc | 0.10441666666666667, 0.1028\n",
      "train acc, test acc | 0.10441666666666667, 0.1028\n",
      "train acc, test acc | 0.10441666666666667, 0.1028\n",
      "train acc, test acc | 0.10441666666666667, 0.1028\n",
      "train acc, test acc | 0.10441666666666667, 0.1028\n",
      "train acc, test acc | 0.10441666666666667, 0.1028\n"
     ]
    }
   ],
   "source": [
    " from dataset.mnist import load_mnist # pkl 파일 사용\r\n",
    "\r\n",
    " (x_train, t_train), (x_test, t_test) = load_mnist(normalize=True, one_hot_label=True)\r\n",
    "\r\n",
    " network = TwoLayerNet(input_size=784, hidden_size=50, output_size=10)\r\n",
    "\r\n",
    " iters_num = 10000\r\n",
    " train_size = x_train.shape[0]\r\n",
    " batch_size = 100\r\n",
    " learning_rate = 0.1\r\n",
    "\r\n",
    " train_loss_list = []\r\n",
    " train_acc_list = []\r\n",
    " test_acc_list = []\r\n",
    "                           # 60000 / 100\r\n",
    " iter_per_epoch = max(train_size / batch_size, 1)\r\n",
    "\r\n",
    " for i in range(iters_num):\r\n",
    "     batch_mask = np.random.choice(train_size, batch_size)\r\n",
    "     x_batch = x_train[batch_mask]\r\n",
    "     t_batch = t_train[batch_mask]\r\n",
    "\r\n",
    "     grad = network.numerical_gradient(x_batch, t_batch)\r\n",
    "\r\n",
    "     for key in ('W1', 'b1', 'W2', 'b2'):\r\n",
    "         network.params[key] -= learning_rate * grad[key]\r\n",
    "\r\n",
    "     loss = network.loss(x_batch, t_batch)\r\n",
    "     train_loss_list.append(loss)\r\n",
    "\r\n",
    "     if i % iter_per_epoch == 0:\r\n",
    "         train_acc = network.accuracy(x_train, t_train)\r\n",
    "         test_acc = network.accuracy(x_test, t_test)\r\n",
    "         train_acc_list.append(train_acc)\r\n",
    "         test_acc_list.append(test_acc)\r\n",
    "         print(\"train acc, test acc | \" + str(train_acc) + \", \" + str(test_acc))"
   ]
  },
  {
   "cell_type": "code",
   "execution_count": null,
   "metadata": {},
   "outputs": [],
   "source": []
  }
 ],
 "metadata": {
  "interpreter": {
   "hash": "b2a908de2e63cef092b4c03a3d6fd8a528dc783c2259b39b3e2e9299e7de2526"
  },
  "kernelspec": {
   "display_name": "Python 3.9.1 64-bit",
   "name": "python3"
  },
  "language_info": {
   "codemirror_mode": {
    "name": "ipython",
    "version": 3
   },
   "file_extension": ".py",
   "mimetype": "text/x-python",
   "name": "python",
   "nbconvert_exporter": "python",
   "pygments_lexer": "ipython3",
   "version": "3.9.1"
  },
  "orig_nbformat": 4
 },
 "nbformat": 4,
 "nbformat_minor": 2
}